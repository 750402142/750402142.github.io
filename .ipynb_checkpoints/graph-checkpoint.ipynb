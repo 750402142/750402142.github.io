{
 "cells": [
  {
   "cell_type": "code",
   "id": "initial_id",
   "metadata": {
    "collapsed": true,
    "ExecuteTime": {
     "end_time": "2024-11-20T02:22:19.431211Z",
     "start_time": "2024-11-20T02:22:19.427074Z"
    }
   },
   "source": "import pandas as pd",
   "outputs": [],
   "execution_count": 1
  },
  {
   "metadata": {
    "ExecuteTime": {
     "end_time": "2024-11-20T02:22:23.089846Z",
     "start_time": "2024-11-20T02:22:23.076379Z"
    }
   },
   "cell_type": "code",
   "source": "data = pd.read_csv('./data/二手车上牌数据处理.csv')",
   "id": "8d8e899299e01942",
   "outputs": [],
   "execution_count": 2
  },
  {
   "metadata": {
    "ExecuteTime": {
     "end_time": "2024-11-20T02:22:56.112483Z",
     "start_time": "2024-11-20T02:22:56.098768Z"
    }
   },
   "cell_type": "code",
   "source": "data",
   "id": "e2db700478c32ca1",
   "outputs": [
    {
     "data": {
      "text/plain": [
       "     Unnamed: 0                              title  行驶距离(万公里)  year     上牌时间  \\\n",
       "0             0             福特F-150 2019款 3.5T LTD       8.40  2020  2020-07   \n",
       "1             1               宝马3系 2018款 320Li 时尚型       7.90  2017  2017-12   \n",
       "2             2    奥迪S3 2017款 改款 S3 2.0T Limousine       4.70  2019  2019-01   \n",
       "3             3         奇骏 2019款 2.0L CVT智联舒适版 2WD       8.60  2019  2019-01   \n",
       "4             4       马自达CX-4 2020款 2.0L 自动两驱蓝天品位版       6.75  2020  2020-06   \n",
       "..          ...                                ...        ...   ...      ...   \n",
       "689         689               观致7 2020款 1.6T 巡航豪华型       1.30  2021  2021-05   \n",
       "690         690             传祺GS3 2019款 150N 自动精英版       5.10  2019  2019-05   \n",
       "691         691  奥迪A6L 2020款 45 TFSI quattro 臻选动感型       5.00  2020  2020-07   \n",
       "692         692            长安CS95 2019款 2.0T 四驱豪华型       4.90  2019  2019-07   \n",
       "693         693             高尔夫 2018款 230TSI 自动舒适型      10.60  2018  2018-05   \n",
       "\n",
       "        年检到期     保险到期  price    车辆级别   车身颜色  驱动方式  出厂日期 brands    label_price  \\\n",
       "0    2024-07  2023-07  32.89      皮卡     蓝色  前置四驱  2020     福特           大于20   \n",
       "1    2023-12  2023-12  16.20     中型车     白色  前置后驱  2017     宝马  16.07 - 18.03   \n",
       "2    2025-01  2024-01  23.98    紧凑型车     蓝色  前置四驱  2019     奥迪           大于20   \n",
       "3    2025-01  2024-01  11.58  紧凑型SUV     白色  前置前驱  2019     奇骏  10.17 - 12.13   \n",
       "4    2024-06  2023-06  10.46  紧凑型SUV     白色  前置前驱  2020    马自达  10.17 - 12.13   \n",
       "..       ...      ...    ...     ...    ...   ...   ...    ...            ...   \n",
       "689  2025-05  2024-05   9.50  紧凑型SUV     黑色  前置前驱  2021     观致   8.20 - 10.17   \n",
       "690  2025-05  2024-05   5.60   小型SUV     白色  前置前驱  2019     传祺    4.27 - 6.23   \n",
       "691  2024-07  2023-07  28.58    中大型车     黑色  前置四驱  2020     奥迪           大于20   \n",
       "692  2023-07  2023-07  11.20  中大型SUV     白色  前置四驱  2019     长安  10.17 - 12.13   \n",
       "693  2024-05  2024-05   7.98    紧凑型车  香槟/棕色  前置前驱  2018    高尔夫    6.23 - 8.20   \n",
       "\n",
       "    label1_行驶距离  \n",
       "0     6.01-9.01  \n",
       "1     6.01-9.01  \n",
       "2     3.01-6.01  \n",
       "3     6.01-9.01  \n",
       "4     6.01-9.01  \n",
       "..          ...  \n",
       "689   0.00-3.01  \n",
       "690   3.01-6.01  \n",
       "691   3.01-6.01  \n",
       "692   3.01-6.01  \n",
       "693  9.01-12.01  \n",
       "\n",
       "[694 rows x 15 columns]"
      ],
      "text/html": [
       "<div>\n",
       "<style scoped>\n",
       "    .dataframe tbody tr th:only-of-type {\n",
       "        vertical-align: middle;\n",
       "    }\n",
       "\n",
       "    .dataframe tbody tr th {\n",
       "        vertical-align: top;\n",
       "    }\n",
       "\n",
       "    .dataframe thead th {\n",
       "        text-align: right;\n",
       "    }\n",
       "</style>\n",
       "<table border=\"1\" class=\"dataframe\">\n",
       "  <thead>\n",
       "    <tr style=\"text-align: right;\">\n",
       "      <th></th>\n",
       "      <th>Unnamed: 0</th>\n",
       "      <th>title</th>\n",
       "      <th>行驶距离(万公里)</th>\n",
       "      <th>year</th>\n",
       "      <th>上牌时间</th>\n",
       "      <th>年检到期</th>\n",
       "      <th>保险到期</th>\n",
       "      <th>price</th>\n",
       "      <th>车辆级别</th>\n",
       "      <th>车身颜色</th>\n",
       "      <th>驱动方式</th>\n",
       "      <th>出厂日期</th>\n",
       "      <th>brands</th>\n",
       "      <th>label_price</th>\n",
       "      <th>label1_行驶距离</th>\n",
       "    </tr>\n",
       "  </thead>\n",
       "  <tbody>\n",
       "    <tr>\n",
       "      <th>0</th>\n",
       "      <td>0</td>\n",
       "      <td>福特F-150 2019款 3.5T LTD</td>\n",
       "      <td>8.40</td>\n",
       "      <td>2020</td>\n",
       "      <td>2020-07</td>\n",
       "      <td>2024-07</td>\n",
       "      <td>2023-07</td>\n",
       "      <td>32.89</td>\n",
       "      <td>皮卡</td>\n",
       "      <td>蓝色</td>\n",
       "      <td>前置四驱</td>\n",
       "      <td>2020</td>\n",
       "      <td>福特</td>\n",
       "      <td>大于20</td>\n",
       "      <td>6.01-9.01</td>\n",
       "    </tr>\n",
       "    <tr>\n",
       "      <th>1</th>\n",
       "      <td>1</td>\n",
       "      <td>宝马3系 2018款 320Li 时尚型</td>\n",
       "      <td>7.90</td>\n",
       "      <td>2017</td>\n",
       "      <td>2017-12</td>\n",
       "      <td>2023-12</td>\n",
       "      <td>2023-12</td>\n",
       "      <td>16.20</td>\n",
       "      <td>中型车</td>\n",
       "      <td>白色</td>\n",
       "      <td>前置后驱</td>\n",
       "      <td>2017</td>\n",
       "      <td>宝马</td>\n",
       "      <td>16.07 - 18.03</td>\n",
       "      <td>6.01-9.01</td>\n",
       "    </tr>\n",
       "    <tr>\n",
       "      <th>2</th>\n",
       "      <td>2</td>\n",
       "      <td>奥迪S3 2017款 改款 S3 2.0T Limousine</td>\n",
       "      <td>4.70</td>\n",
       "      <td>2019</td>\n",
       "      <td>2019-01</td>\n",
       "      <td>2025-01</td>\n",
       "      <td>2024-01</td>\n",
       "      <td>23.98</td>\n",
       "      <td>紧凑型车</td>\n",
       "      <td>蓝色</td>\n",
       "      <td>前置四驱</td>\n",
       "      <td>2019</td>\n",
       "      <td>奥迪</td>\n",
       "      <td>大于20</td>\n",
       "      <td>3.01-6.01</td>\n",
       "    </tr>\n",
       "    <tr>\n",
       "      <th>3</th>\n",
       "      <td>3</td>\n",
       "      <td>奇骏 2019款 2.0L CVT智联舒适版 2WD</td>\n",
       "      <td>8.60</td>\n",
       "      <td>2019</td>\n",
       "      <td>2019-01</td>\n",
       "      <td>2025-01</td>\n",
       "      <td>2024-01</td>\n",
       "      <td>11.58</td>\n",
       "      <td>紧凑型SUV</td>\n",
       "      <td>白色</td>\n",
       "      <td>前置前驱</td>\n",
       "      <td>2019</td>\n",
       "      <td>奇骏</td>\n",
       "      <td>10.17 - 12.13</td>\n",
       "      <td>6.01-9.01</td>\n",
       "    </tr>\n",
       "    <tr>\n",
       "      <th>4</th>\n",
       "      <td>4</td>\n",
       "      <td>马自达CX-4 2020款 2.0L 自动两驱蓝天品位版</td>\n",
       "      <td>6.75</td>\n",
       "      <td>2020</td>\n",
       "      <td>2020-06</td>\n",
       "      <td>2024-06</td>\n",
       "      <td>2023-06</td>\n",
       "      <td>10.46</td>\n",
       "      <td>紧凑型SUV</td>\n",
       "      <td>白色</td>\n",
       "      <td>前置前驱</td>\n",
       "      <td>2020</td>\n",
       "      <td>马自达</td>\n",
       "      <td>10.17 - 12.13</td>\n",
       "      <td>6.01-9.01</td>\n",
       "    </tr>\n",
       "    <tr>\n",
       "      <th>...</th>\n",
       "      <td>...</td>\n",
       "      <td>...</td>\n",
       "      <td>...</td>\n",
       "      <td>...</td>\n",
       "      <td>...</td>\n",
       "      <td>...</td>\n",
       "      <td>...</td>\n",
       "      <td>...</td>\n",
       "      <td>...</td>\n",
       "      <td>...</td>\n",
       "      <td>...</td>\n",
       "      <td>...</td>\n",
       "      <td>...</td>\n",
       "      <td>...</td>\n",
       "      <td>...</td>\n",
       "    </tr>\n",
       "    <tr>\n",
       "      <th>689</th>\n",
       "      <td>689</td>\n",
       "      <td>观致7 2020款 1.6T 巡航豪华型</td>\n",
       "      <td>1.30</td>\n",
       "      <td>2021</td>\n",
       "      <td>2021-05</td>\n",
       "      <td>2025-05</td>\n",
       "      <td>2024-05</td>\n",
       "      <td>9.50</td>\n",
       "      <td>紧凑型SUV</td>\n",
       "      <td>黑色</td>\n",
       "      <td>前置前驱</td>\n",
       "      <td>2021</td>\n",
       "      <td>观致</td>\n",
       "      <td>8.20 - 10.17</td>\n",
       "      <td>0.00-3.01</td>\n",
       "    </tr>\n",
       "    <tr>\n",
       "      <th>690</th>\n",
       "      <td>690</td>\n",
       "      <td>传祺GS3 2019款 150N 自动精英版</td>\n",
       "      <td>5.10</td>\n",
       "      <td>2019</td>\n",
       "      <td>2019-05</td>\n",
       "      <td>2025-05</td>\n",
       "      <td>2024-05</td>\n",
       "      <td>5.60</td>\n",
       "      <td>小型SUV</td>\n",
       "      <td>白色</td>\n",
       "      <td>前置前驱</td>\n",
       "      <td>2019</td>\n",
       "      <td>传祺</td>\n",
       "      <td>4.27 - 6.23</td>\n",
       "      <td>3.01-6.01</td>\n",
       "    </tr>\n",
       "    <tr>\n",
       "      <th>691</th>\n",
       "      <td>691</td>\n",
       "      <td>奥迪A6L 2020款 45 TFSI quattro 臻选动感型</td>\n",
       "      <td>5.00</td>\n",
       "      <td>2020</td>\n",
       "      <td>2020-07</td>\n",
       "      <td>2024-07</td>\n",
       "      <td>2023-07</td>\n",
       "      <td>28.58</td>\n",
       "      <td>中大型车</td>\n",
       "      <td>黑色</td>\n",
       "      <td>前置四驱</td>\n",
       "      <td>2020</td>\n",
       "      <td>奥迪</td>\n",
       "      <td>大于20</td>\n",
       "      <td>3.01-6.01</td>\n",
       "    </tr>\n",
       "    <tr>\n",
       "      <th>692</th>\n",
       "      <td>692</td>\n",
       "      <td>长安CS95 2019款 2.0T 四驱豪华型</td>\n",
       "      <td>4.90</td>\n",
       "      <td>2019</td>\n",
       "      <td>2019-07</td>\n",
       "      <td>2023-07</td>\n",
       "      <td>2023-07</td>\n",
       "      <td>11.20</td>\n",
       "      <td>中大型SUV</td>\n",
       "      <td>白色</td>\n",
       "      <td>前置四驱</td>\n",
       "      <td>2019</td>\n",
       "      <td>长安</td>\n",
       "      <td>10.17 - 12.13</td>\n",
       "      <td>3.01-6.01</td>\n",
       "    </tr>\n",
       "    <tr>\n",
       "      <th>693</th>\n",
       "      <td>693</td>\n",
       "      <td>高尔夫 2018款 230TSI 自动舒适型</td>\n",
       "      <td>10.60</td>\n",
       "      <td>2018</td>\n",
       "      <td>2018-05</td>\n",
       "      <td>2024-05</td>\n",
       "      <td>2024-05</td>\n",
       "      <td>7.98</td>\n",
       "      <td>紧凑型车</td>\n",
       "      <td>香槟/棕色</td>\n",
       "      <td>前置前驱</td>\n",
       "      <td>2018</td>\n",
       "      <td>高尔夫</td>\n",
       "      <td>6.23 - 8.20</td>\n",
       "      <td>9.01-12.01</td>\n",
       "    </tr>\n",
       "  </tbody>\n",
       "</table>\n",
       "<p>694 rows × 15 columns</p>\n",
       "</div>"
      ]
     },
     "execution_count": 3,
     "metadata": {},
     "output_type": "execute_result"
    }
   ],
   "execution_count": 3
  },
  {
   "metadata": {
    "ExecuteTime": {
     "end_time": "2024-11-20T02:23:19.274145Z",
     "start_time": "2024-11-20T02:23:19.268506Z"
    }
   },
   "cell_type": "code",
   "source": "dp1 = data.groupby('year').agg({'brands': 'count', '行驶距离(万公里)': 'mean'}).reset_index().values.tolist()    \n",
   "id": "3ab786a3e167ed73",
   "outputs": [],
   "execution_count": 5
  },
  {
   "metadata": {
    "ExecuteTime": {
     "end_time": "2024-11-20T02:53:20.047071Z",
     "start_time": "2024-11-20T02:53:20.041292Z"
    }
   },
   "cell_type": "code",
   "source": "data.groupby('year').agg({'brands': 'count', '行驶距离(万公里)': 'mean'}).reset_index().values.tolist()",
   "id": "db95f15c42f38c5b",
   "outputs": [
    {
     "data": {
      "text/plain": [
       "[[2010.0, 5.0, 9.03],\n",
       " [2011.0, 7.0, 13.26857142857143],\n",
       " [2012.0, 3.0, 14.533333333333333],\n",
       " [2013.0, 21.0, 12.45],\n",
       " [2014.0, 23.0, 10.869130434782608],\n",
       " [2015.0, 27.0, 8.474444444444444],\n",
       " [2016.0, 29.0, 8.33551724137931],\n",
       " [2017.0, 53.0, 8.205471698113207],\n",
       " [2018.0, 79.0, 6.230126582278481],\n",
       " [2019.0, 92.0, 5.2298913043478255],\n",
       " [2020.0, 104.0, 4.6426923076923075],\n",
       " [2021.0, 125.0, 2.81952],\n",
       " [2022.0, 90.0, 1.3791111111111112],\n",
       " [2023.0, 36.0, 0.3011111111111111]]"
      ]
     },
     "execution_count": 26,
     "metadata": {},
     "output_type": "execute_result"
    }
   ],
   "execution_count": 26
  },
  {
   "metadata": {
    "ExecuteTime": {
     "end_time": "2024-11-20T02:23:55.504375Z",
     "start_time": "2024-11-20T02:23:55.443730Z"
    }
   },
   "cell_type": "code",
   "source": "from pyecharts.commons.utils import JsCode",
   "id": "1b5d64e6455a22ff",
   "outputs": [],
   "execution_count": 7
  },
  {
   "metadata": {
    "ExecuteTime": {
     "end_time": "2024-11-20T02:24:01.562984Z",
     "start_time": "2024-11-20T02:24:01.559692Z"
    }
   },
   "cell_type": "code",
   "source": [
    "itemstyle2 = {\n",
    "    'normal': {\n",
    "        'color': JsCode(\"\"\"new echarts.graphic.LinearGradient(0, 0, 1, 1, [\n",
    "          { offset: 0, color: 'rgb(40, 141, 125)' },\n",
    "          { offset: 1, color: 'rgb(199, 229, 227)' }\n",
    "        ],)\"\"\"),\n",
    "        'barBorderRadius': [20,20,20,20],      #  柱子的四个角圆角设计\n",
    "        'shadowColor':'rgba(108,80,243,0.9)', # 阴影的颜色\n",
    "        'shadowBlur':5, # 阴影的宽度\n",
    "        'width': 4,\n",
    "    }\n",
    "}\n",
    "itemstyle1 = {\n",
    "    'normal': {\n",
    "        'color': JsCode(\"\"\"new echarts.graphic.LinearGradient(0, 0, 0, 1, [\n",
    "            {offset: 0, color: 'rgba(255, 0, 0, 1)'},\n",
    "            {offset: 1, color: 'rgba(0, 255, 0, 1)'}\n",
    "        ], false)\"\"\"),\n",
    "        'lineStyle': {\n",
    "            'width': 4,\n",
    "            'type': 'solid',\n",
    "            'color': JsCode(\"\"\"new echarts.graphic.LinearGradient(0, 0, 0, 1, [\n",
    "                {offset: 0, color: 'rgba(255, 0, 0, 0.5)'},\n",
    "                {offset: 1, color: 'rgba(0, 255, 0, 0.5)'}\n",
    "            ], false)\"\"\"),\n",
    "        },\n",
    "        'borderColor': 'rgba(0, 0, 0, 0.5)',\n",
    "        'borderWidth': 8,\n",
    "        'shadowColor': 'rgba(0, 0, 0, 0.4)',\n",
    "        'shadowBlur': 10,\n",
    "        'shadowOffsetY': 10,\n",
    "    }\n",
    "}"
   ],
   "id": "2811a1d0108b7941",
   "outputs": [],
   "execution_count": 8
  },
  {
   "metadata": {
    "ExecuteTime": {
     "end_time": "2024-11-20T02:51:20.888202Z",
     "start_time": "2024-11-20T02:51:20.881587Z"
    }
   },
   "cell_type": "code",
   "source": [
    "from pyecharts.charts import Bar, Line,Scatter\n",
    "from pyecharts import options as opts\n",
    "# bar = Bar()\n",
    "# bar.add_xaxis([i[0] for i in dp1])\n",
    "# bar.add_yaxis('车辆数量',[i[1] for i in dp1],yaxis_index=0,\n",
    "#               itemstyle_opts=itemstyle2,\n",
    "#               label_opts=opts.LabelOpts(formatter='{c}辆',color='auto') \n",
    "#              )\n",
    "# bar.extend_axis(\n",
    "#     yaxis=opts.AxisOpts(name='平均行驶距离(万公里)',position='right',\n",
    "#         axislabel_opts=opts.LabelOpts(formatter=\"{value}\"),\n",
    "#         splitline_opts=opts.SplitLineOpts(is_show=False),\n",
    "#         axisline_opts=opts.AxisLineOpts(linestyle_opts=opts.LineStyleOpts(color='black')))\n",
    "# )\n",
    "# bar.set_global_opts(title_opts=opts.TitleOpts(title='不同年份车辆数量与平均行驶距离',pos_left='center',pos_top='5%'),\n",
    "#                     tooltip_opts=opts.TooltipOpts(trigger='axis', axis_pointer_type='cross'),\n",
    "#                     legend_opts=opts.LegendOpts(pos_top='10%'),\n",
    "#                     xaxis_opts=opts.AxisOpts(name='年份',splitline_opts={'show':False},name_location='middle',name_gap=26,\n",
    "#                                             axisline_opts=opts.AxisLineOpts(linestyle_opts=opts.LineStyleOpts(color='black'))),\n",
    "#                     yaxis_opts=opts.AxisOpts(\n",
    "#                         name='车辆数量',\n",
    "#                         splitline_opts=opts.SplitLineOpts(is_show=False),\n",
    "#                         axisline_opts=opts.AxisLineOpts(linestyle_opts=opts.LineStyleOpts(color='black'))\n",
    "#                     )              \n",
    "# )\n",
    "\n",
    "line = (Line()\n",
    "        .add_xaxis([i[0] for i in dp1])\n",
    "        .add_yaxis(\"平均行驶距离(万公里)\",[(i[2]) for i in dp1], \n",
    "            )\n",
    "       )\n",
    "\n",
    "# bar.overlap(line)\n",
    "# bar.render()\n",
    "line.render()"
   ],
   "id": "e5f46bfe68e5f9c8",
   "outputs": [
    {
     "data": {
      "text/plain": [
       "'C:\\\\Users\\\\wang\\\\Desktop\\\\pyLearn\\\\作业\\\\whole\\\\render.html'"
      ]
     },
     "execution_count": 21,
     "metadata": {},
     "output_type": "execute_result"
    }
   ],
   "execution_count": 21
  },
  {
   "metadata": {
    "ExecuteTime": {
     "end_time": "2024-11-20T02:51:21.836462Z",
     "start_time": "2024-11-20T02:51:21.832803Z"
    }
   },
   "cell_type": "code",
   "source": "len(dp1)",
   "id": "251140ab28dbfd33",
   "outputs": [
    {
     "data": {
      "text/plain": [
       "14"
      ]
     },
     "execution_count": 22,
     "metadata": {},
     "output_type": "execute_result"
    }
   ],
   "execution_count": 22
  },
  {
   "metadata": {
    "ExecuteTime": {
     "end_time": "2024-11-20T02:51:52.536683Z",
     "start_time": "2024-11-20T02:51:52.531290Z"
    }
   },
   "cell_type": "code",
   "source": [
    "line1 = (Line()\n",
    "        .add_xaxis([i[0] for i in dp1])\n",
    "        .add_yaxis(\"平均行驶距离(万公里)\",[(i[2]) for i in dp1], \n",
    "            )\n",
    "       )\n",
    "line1.render()"
   ],
   "id": "e59f228ab712bbbc",
   "outputs": [
    {
     "data": {
      "text/plain": [
       "'C:\\\\Users\\\\wang\\\\Desktop\\\\pyLearn\\\\作业\\\\whole\\\\render.html'"
      ]
     },
     "execution_count": 23,
     "metadata": {},
     "output_type": "execute_result"
    }
   ],
   "execution_count": 23
  },
  {
   "metadata": {
    "ExecuteTime": {
     "end_time": "2024-11-20T02:52:14.349114Z",
     "start_time": "2024-11-20T02:52:14.345665Z"
    }
   },
   "cell_type": "code",
   "source": "[i[0] for i in dp1]",
   "id": "d305e5ac94d282c5",
   "outputs": [
    {
     "data": {
      "text/plain": [
       "[2010.0,\n",
       " 2011.0,\n",
       " 2012.0,\n",
       " 2013.0,\n",
       " 2014.0,\n",
       " 2015.0,\n",
       " 2016.0,\n",
       " 2017.0,\n",
       " 2018.0,\n",
       " 2019.0,\n",
       " 2020.0,\n",
       " 2021.0,\n",
       " 2022.0,\n",
       " 2023.0]"
      ]
     },
     "execution_count": 24,
     "metadata": {},
     "output_type": "execute_result"
    }
   ],
   "execution_count": 24
  },
  {
   "metadata": {},
   "cell_type": "code",
   "outputs": [],
   "execution_count": null,
   "source": "",
   "id": "96a996dc96d67566"
  }
 ],
 "metadata": {
  "kernelspec": {
   "display_name": "Python 3",
   "language": "python",
   "name": "python3"
  },
  "language_info": {
   "codemirror_mode": {
    "name": "ipython",
    "version": 2
   },
   "file_extension": ".py",
   "mimetype": "text/x-python",
   "name": "python",
   "nbconvert_exporter": "python",
   "pygments_lexer": "ipython2",
   "version": "2.7.6"
  }
 },
 "nbformat": 4,
 "nbformat_minor": 5
}
